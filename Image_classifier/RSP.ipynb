{
 "cells": [
  {
   "cell_type": "code",
   "execution_count": null,
   "metadata": {},
   "outputs": [
    {
     "name": "stdout",
     "output_type": "stream",
     "text": [
      "rock, paper, or scissor? rock\n",
      "Computer chose the same, this round is a draw.\n",
      "rock, paper, or scissor? paper\n",
      "Computer chose rock, you win this round! The score is 1 to 0\n",
      "rock, paper, or scissor? paper\n",
      "Computer chose scissor, you lose this round! The score is 1 to 1\n"
     ]
    }
   ],
   "source": [
    "from random import randint\n",
    "\n",
    "while True:\n",
    "    hum_score = 0\n",
    "    comp_score = 0\n",
    "    while hum_score != 3 and comp_score != 3:\n",
    "        hum_decision = input(\"rock, paper, or scissor? \")\n",
    "        comp_options = ['rock', 'paper', 'scissor']\n",
    "        comp_decision = comp_options[randint(0,2)]\n",
    "        if hum_decision == 'rock' and comp_decision == 'paper':\n",
    "            comp_score += 1\n",
    "            print(f\"Computer chose paper, you lose this round! The score is {hum_score} to {comp_score}\")\n",
    "        elif hum_decision == 'rock' and comp_decision == 'scissor':\n",
    "            hum_score += 1\n",
    "            print(f\"Computer chose scissor, you win this round! The score is {hum_score} to {comp_score}\")\n",
    "        elif hum_decision == 'paper' and comp_decision == 'scissor':\n",
    "            comp_score += 1\n",
    "            print(f\"Computer chose scissor, you lose this round! The score is {hum_score} to {comp_score}\")\n",
    "        elif hum_decision == 'paper' and comp_decision == 'rock':\n",
    "            hum_score += 1\n",
    "            print(f\"Computer chose rock, you win this round! The score is {hum_score} to {comp_score}\")\n",
    "        elif hum_decision == 'scissor' and comp_decision == 'rock':\n",
    "            comp_score += 1\n",
    "            print(f\"Computer chose rock, you lose this round! The score is {hum_score} to {comp_score}\")\n",
    "        elif hum_decision == 'scissor' and comp_decision == 'paper':\n",
    "            hum_score += 1\n",
    "            print(f\"Computer chose paper, you win this round! The score is {hum_score} to {comp_score}\")\n",
    "        elif hum_decision == comp_decision:\n",
    "            print(\"Computer chose the same, this round is a draw.\")\n",
    "    else:\n",
    "        if hum_score == 3:\n",
    "            print (\"Contragulations, you won!\")\n",
    "        if comp_score == 3:\n",
    "            print(\"Sorry, you lost!\")\n",
    "    new_round = input(\"Do you want to play again? Press Y or N. \")\n",
    "    if new_round == \"N\":\n",
    "        print(\"Thanks for playing!\")\n",
    "        break       "
   ]
  },
  {
   "cell_type": "code",
   "execution_count": null,
   "metadata": {},
   "outputs": [],
   "source": []
  }
 ],
 "metadata": {
  "kernelspec": {
   "display_name": "Python 3",
   "language": "python",
   "name": "python3"
  },
  "language_info": {
   "codemirror_mode": {
    "name": "ipython",
    "version": 3
   },
   "file_extension": ".py",
   "mimetype": "text/x-python",
   "name": "python",
   "nbconvert_exporter": "python",
   "pygments_lexer": "ipython3",
   "version": "3.8.5"
  }
 },
 "nbformat": 4,
 "nbformat_minor": 2
}
