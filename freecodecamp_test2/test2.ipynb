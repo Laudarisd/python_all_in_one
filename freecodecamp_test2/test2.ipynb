{
 "cells": [
  {
   "cell_type": "code",
   "execution_count": 9,
   "metadata": {},
   "outputs": [],
   "source": [
    "def add_time(start, duration, day = None):\n",
    "    starting_hour, form = start.split()\n",
    "    start_hrs, start_min = starting_hour.split(':')\n",
    "\n",
    "    dur_hrs, dur_min = duration.split(':')\n",
    "\n",
    "    total_hrs = int(start_hrs) + int(dur_hrs)\n",
    "    total_min = int(start_min) + int(dur_min)\n",
    "    day_ = 0\n",
    "    days = ['Monday', 'Tuesday', 'Wednesday', 'Thursday', 'Friday', 'Saturday', 'Sunday']\n",
    "\n",
    "    day_ = total_hrs / 24\n",
    "    if day_ < 1:\n",
    "        day_ = 0\n",
    "    if day_ > 1:\n",
    "        day_ = int(day_)\n",
    "\n",
    "    if total_min > 59:\n",
    "        total_hrs += 1\n",
    "        total_min %= 60\n",
    "    while total_hrs > 11:\n",
    "        total_hrs -= 12\n",
    "        if form == \"AM\":\n",
    "            form = 'PM'\n",
    "            day_ -=1\n",
    "        else:\n",
    "            form = \"AM\"\n",
    "            day_ += 1\n",
    "\n",
    "    if total_hrs == 0:\n",
    "        total_hrs = 12\n",
    "\n",
    "    time = f\"{total_hrs}:{str(total_min).zfill(2)} {form}\"\n",
    "\n",
    "    if day:\n",
    "        current_day_index = days.index(day.title())\n",
    "        next_day_index = int((current_day_index + day_) % 7)\n",
    "        time += f\", {days[next_day_index]}\"\n",
    "    if day_ == 1:\n",
    "        time += \" (next day)\"\n",
    "    if day_ > 1:\n",
    "        time += f\" ({int(day_)} days later)\"\n",
    "    return time"
   ]
  },
  {
   "cell_type": "code",
   "execution_count": null,
   "metadata": {},
   "outputs": [],
   "source": []
  }
 ],
 "metadata": {
  "kernelspec": {
   "display_name": "Python 3",
   "language": "python",
   "name": "python3"
  },
  "language_info": {
   "codemirror_mode": {
    "name": "ipython",
    "version": 3
   },
   "file_extension": ".py",
   "mimetype": "text/x-python",
   "name": "python",
   "nbconvert_exporter": "python",
   "pygments_lexer": "ipython3",
   "version": "3.8.5"
  }
 },
 "nbformat": 4,
 "nbformat_minor": 2
}
