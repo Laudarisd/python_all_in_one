{
 "cells": [
  {
   "cell_type": "code",
   "execution_count": 1,
   "metadata": {},
   "outputs": [],
   "source": [
    "class Rectangle:\n",
    "  def __init__(self, width, height):\n",
    "    self.width = width\n",
    "    self.height = height\n",
    "  \n",
    "  def __str__(self):\n",
    "    return((\"Rectangle(width={0}, height={1})\").format(self.width, self.height))\n",
    "\n",
    "  def set_width(self, value):\n",
    "    self.width = value\n",
    "  \n",
    "  def set_height(self, value):\n",
    "    self.height = value\n",
    "\n",
    "  def get_area(self):\n",
    "    return(self.width * self.height)\n",
    "  \n",
    "  def get_perimeter(self):\n",
    "    return(2 * self.width + 2 * self.height)\n",
    "\n",
    "  def get_diagonal(self):\n",
    "    return((self.width ** 2 + self.height ** 2) ** .5)\n",
    "\n",
    "  def get_picture(self):\n",
    "    if self.width > 50 or self.height > 50:\n",
    "      return(\"Too big for picture.\")\n",
    "    else:\n",
    "      return( ( (\"*\" * self.width)+ \"\\n\" ) * self.height)\n",
    "  \n",
    "  def get_amount_inside(self, Shape):\n",
    "    \n",
    "    return( self.get_area() // Shape.get_area() )\n",
    "    \n",
    "class Square(Rectangle):\n",
    "  def __init__(self, side):\n",
    "    Rectangle.width = side\n",
    "    Rectangle.height = side\n",
    "\n",
    "  def set_side(self, value):\n",
    "    Rectangle.set_width(self, value)\n",
    "    Rectangle.set_height(self, value)\n",
    "\n",
    "  def __str__(self):\n",
    "    return((\"Square(side={0})\").format(self.width) )\n",
    "\n",
    "  \n",
    "\n",
    "\n"
   ]
  },
  {
   "cell_type": "code",
   "execution_count": null,
   "metadata": {},
   "outputs": [],
   "source": []
  }
 ],
 "metadata": {
  "kernelspec": {
   "display_name": "Python 3",
   "language": "python",
   "name": "python3"
  },
  "language_info": {
   "codemirror_mode": {
    "name": "ipython",
    "version": 3
   },
   "file_extension": ".py",
   "mimetype": "text/x-python",
   "name": "python",
   "nbconvert_exporter": "python",
   "pygments_lexer": "ipython3",
   "version": "3.8.5"
  }
 },
 "nbformat": 4,
 "nbformat_minor": 2
}
