{
 "cells": [
  {
   "cell_type": "markdown",
   "metadata": {},
   "source": [
    "# Break csv rows and generate multiple csv files"
   ]
  },
  {
   "cell_type": "code",
   "execution_count": 24,
   "metadata": {},
   "outputs": [],
   "source": [
    "from itertools import groupby\n",
    "import csv\n",
    "\n",
    "with open('train.csv') as csv_file:\n",
    "    reader = csv.reader(csv_file)\n",
    "    next(reader) #skip header\n",
    "    \n",
    "    #Group by column (id)\n",
    "    lst = sorted(reader, key=lambda x : x[6])\n",
    "    groups = groupby(lst, key=lambda x : x[6])\n",
    "\n",
    "    #Write file for each id\n",
    "    for k,g in groups:\n",
    "        filename = k + '.csv'\n",
    "        with open(filename, 'w', newline='') as fout:\n",
    "            csv_output = csv.writer(fout)\n",
    "            csv_output.writerow([\"x\",\"y\",\"z\",\"vx\",\"fz\",\"time\",\"id\",\"type\"])  #header\n",
    "            #sortedlist = sorted(lst, key=lambda row: row[5], reverse=True)\n",
    "            for line in g:\n",
    "                #csv_output.writerow(line)\n",
    "                csv_output.writerow(line)"
   ]
  },
  {
   "cell_type": "markdown",
   "metadata": {},
   "source": [
    "# Sort csv columns at once in multiple csv files"
   ]
  },
  {
   "cell_type": "code",
   "execution_count": 119,
   "metadata": {},
   "outputs": [],
   "source": [
    "import csv\n",
    "import operator\n",
    "import glob\n",
    "import pandas as pd\n",
    "\n",
    "data = dict() # filename : lists\n",
    "\n",
    "path=\"./csv/*.csv\"\n",
    "files=glob.glob(path)\n",
    "for filename in files:\n",
    "    df = pd.read_csv(sorted(filename))\n",
    "    df.sort_values('time', inplace=True)\n",
    "    df.to_csv(filename, index=False)\n"
   ]
  },
  {
   "cell_type": "code",
   "execution_count": 145,
   "metadata": {},
   "outputs": [],
   "source": [
    "import os\n",
    "import glob\n",
    "import pandas as pd\n",
    "import shutil\n",
    "from natsort import natsorted\n",
    "extension = 'csv'\n",
    "all_filenames = [i for i in natsorted(glob.glob('*.{}'.format(extension)))]\n",
    "#srt_files = natsorted(all_filenames)\n",
    "combined_csv = pd.concat([pd.read_csv(f) for f in all_filenames ])\n",
    "combined_csv.to_csv( \"combined_csv.csv\", index=False, encoding='utf-8-sig')\n",
    "\n"
   ]
  },
  {
   "cell_type": "markdown",
   "metadata": {},
   "source": [
    "# Combined all csv files in one csv"
   ]
  },
  {
   "cell_type": "code",
   "execution_count": 107,
   "metadata": {},
   "outputs": [],
   "source": [
    "extension = 'csv'\n",
    "all_filenames = [i for i in sorted(glob.glob('*.{}'.format(extension)))]"
   ]
  },
  {
   "cell_type": "code",
   "execution_count": null,
   "metadata": {},
   "outputs": [],
   "source": [
    "#sorted(glob.glob('/home/c/*.csv'))\n",
    "combined_csv = pd.concat([pd.read_csv(f) for f in all_filenames ])\n",
    "combined_csv.to_csv( \"combined_csv.csv\", index=False, encoding='utf-8-sig')\n"
   ]
  }
 ],
 "metadata": {
  "kernelspec": {
   "display_name": "Python 3",
   "language": "python",
   "name": "python3"
  },
  "language_info": {
   "codemirror_mode": {
    "name": "ipython",
    "version": 3
   },
   "file_extension": ".py",
   "mimetype": "text/x-python",
   "name": "python",
   "nbconvert_exporter": "python",
   "pygments_lexer": "ipython3",
   "version": "3.8.5"
  }
 },
 "nbformat": 4,
 "nbformat_minor": 2
}
